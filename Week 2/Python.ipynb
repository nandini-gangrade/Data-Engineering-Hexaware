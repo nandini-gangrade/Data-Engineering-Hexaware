{
  "nbformat": 4,
  "nbformat_minor": 0,
  "metadata": {
    "colab": {
      "provenance": [],
      "authorship_tag": "ABX9TyNYpcZoJF8SwFmwKvpzDLBs",
      "include_colab_link": true
    },
    "kernelspec": {
      "name": "python3",
      "display_name": "Python 3"
    },
    "language_info": {
      "name": "python"
    }
  },
  "cells": [
    {
      "cell_type": "markdown",
      "metadata": {
        "id": "view-in-github",
        "colab_type": "text"
      },
    {
      "cell_type": "markdown",
      "source": [
        "# Week 2: Real-Time Data Processing with Python"
      ],
      "metadata": {
        "id": "BBXtlGRreo5K"
      }
    },
    {
      "cell_type": "code",
      "source": [
        "# Install the necessary libraries in Colab\n",
        "!pip install sqlalchemy pandas"
      ],
      "metadata": {
        "collapsed": true,
        "id": "wsU5jOwRe4j8"
      },
      "execution_count": null,
      "outputs": []
    },
    {
      "cell_type": "code",
      "source": [
        "import pandas as pd\n",
        "from sqlalchemy import create_engine\n",
        "import random\n",
        "from datetime import datetime\n",
        "import time"
      ],
      "metadata": {
        "id": "SNVMZ-zNfwrz"
      },
      "execution_count": 6,
      "outputs": []
    },
    {
      "cell_type": "code",
      "source": [
        "# Step 2.1: Create a connection to SQLite database\n",
        "# This creates a file 'ecommerce.db' in your Colab environment\n",
        "engine = create_engine('sqlite:///ecommerce.db')"
      ],
      "metadata": {
        "id": "px9NY-92gPx3"
      },
      "execution_count": 7,
      "outputs": []
    },
    {
      "cell_type": "code",
      "source": [
        "# Step 3: Function to simulate real-time data streams\n",
        "def simulate_order_stream():\n",
        "    product_ids = [1, 2, 3, 4]  # Product IDs available in the system\n",
        "    customer_ids = [2001, 2002, 2003]  # Customer IDs available in the system\n",
        "    batch_count = 0  # Initialize a counter for batch number\n",
        "    max_batches = 5  # Maximum number of batches to simulate\n",
        "\n",
        "    while batch_count < max_batches:\n",
        "        # Create a random order\n",
        "        order = {\n",
        "            'order_id': random.randint(1001, 9999),\n",
        "            'product_id': random.choice(product_ids),\n",
        "            'customer_id': random.choice(customer_ids),\n",
        "            'quantity': random.randint(1, 5),\n",
        "            'order_amount': round(random.uniform(50, 500), 2),\n",
        "            'order_date': datetime.now().strftime('%Y-%m-%d %H:%M:%S')\n",
        "        }\n",
        "\n",
        "        # Yield the order as a Pandas DataFrame\n",
        "        yield pd.DataFrame([order])\n",
        "\n",
        "        # Increment the batch count\n",
        "        batch_count += 1\n",
        "\n",
        "        # Sleep for a short time to simulate real-time data\n",
        "        time.sleep(2)"
      ],
      "metadata": {
        "id": "zKDkV2dSgfV3"
      },
      "execution_count": 12,
      "outputs": []
    },
    {
      "cell_type": "code",
      "source": [
        "# Step 4: Stream and load real-time data into the SQL table\n",
        "# Run this cell to start the data streaming process\n",
        "for order_batch in simulate_order_stream():\n",
        "    # Append the generated order batch to the order_fact table\n",
        "    order_batch.to_sql('order_fact', con=engine, if_exists='append', index=False)\n",
        "\n",
        "    # Print only a summary of each order batch with the timestamp of loading\n",
        "    print(f\"Order batch loaded at {datetime.now()} - Order ID: {order_batch['order_id'].iloc[0]}, \"\n",
        "          f\"Product ID: {order_batch['product_id'].iloc[0]}, Customer ID: {order_batch['customer_id'].iloc[0]}\")"
      ],
      "metadata": {
        "colab": {
          "base_uri": "https://localhost:8080/"
        },
        "id": "m6EBD7VRglEV",
        "outputId": "587d2ab3-6568-4b6a-90f0-d26c6cc8f8b6"
      },
      "execution_count": 13,
      "outputs": [
        {
          "output_type": "stream",
          "name": "stdout",
          "text": [
            "Order batch loaded at 2024-09-27 08:20:14.097668 - Order ID: 2849, Product ID: 2, Customer ID: 2001\n",
            "Order batch loaded at 2024-09-27 08:20:16.113633 - Order ID: 6997, Product ID: 4, Customer ID: 2002\n",
            "Order batch loaded at 2024-09-27 08:20:18.131926 - Order ID: 8431, Product ID: 4, Customer ID: 2003\n",
            "Order batch loaded at 2024-09-27 08:20:20.148154 - Order ID: 1193, Product ID: 2, Customer ID: 2003\n",
            "Order batch loaded at 2024-09-27 08:20:22.164712 - Order ID: 2906, Product ID: 1, Customer ID: 2001\n"
          ]
        }
      ]
    }
  ]
}
