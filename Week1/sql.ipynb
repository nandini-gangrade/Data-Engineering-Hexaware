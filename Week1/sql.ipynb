{
  "nbformat": 4,
  "nbformat_minor": 0,
  "metadata": {
    "colab": {
      "provenance": [],
      "authorship_tag": "ABX9TyPGLPEex8o05xMj0HxUZk4p",
      "include_colab_link": true
    },
    "kernelspec": {
      "name": "python3",
      "display_name": "Python 3"
    },
    "language_info": {
      "name": "python"
    }
  },
  "cells": [
    {
      "cell_type": "markdown",
      "metadata": {
        "id": "view-in-github",
        "colab_type": "text"
      },
      "source": [
        "<a href=\"https://colab.research.google.com/github/nandini-gangrade/Data-Engineering-Hexaware/blob/Project/Week1/sql.ipynb\" target=\"_parent\"><img src=\"https://colab.research.google.com/assets/colab-badge.svg\" alt=\"Open In Colab\"/></a>"
      ]
    },
   {
      "cell_type": "markdown",
      "source": [
        "# Week 1: Data Warehousing and SQL Concepts"
      ],
      "metadata": {
        "id": "2KFjbBXQewtZ"
      }
    },
    {
      "cell_type": "code",
      "execution_count": 1,
      "metadata": {
        "colab": {
          "base_uri": "https://localhost:8080/"
        },
        "id": "w1JTrRidRR9b",
        "outputId": "cc7d1f18-16fe-4088-a18d-df69fce969bc"
      },
      "outputs": [
        {
          "output_type": "stream",
          "name": "stdout",
          "text": [
            "Customer Data:\n",
            "(2001, 'Bob', 'California')\n",
            "(2002, 'Alice', 'Texas')\n",
            "(2003, 'John', 'New York')\n",
            "\n",
            "Product Data:\n",
            "(1, 'Smartphone', 'Electronics')\n",
            "(2, 'Laptop', 'Electronics')\n",
            "(3, 'Tablet', 'Electronics')\n",
            "\n",
            "Order Data:\n",
            "(1001, 1, 2001, 1, 299.99, '2023-09-27 12:30:00')\n",
            "(1002, 2, 2002, 2, 999.99, '2023-09-27 14:45:00')\n",
            "(1003, 3, 2003, 1, 499.99, '2023-09-27 15:30:00')\n",
            "\n",
            "Total Sales per Product:\n",
            "('Laptop', 999.99)\n",
            "('Smartphone', 299.99)\n",
            "('Tablet', 499.99)\n"
          ]
        }
      ],
      "source": [
        "# Step 1: Set up SQLite in Colab\n",
        "import sqlite3\n",
        "\n",
        "# Create a new SQLite database (in-memory)\n",
        "conn = sqlite3.connect(':memory:')\n",
        "cursor = conn.cursor()\n",
        "\n",
        "# Step 2: Create tables to store customer, product, and order data\n",
        "cursor.execute('''\n",
        "CREATE TABLE customer_dim (\n",
        "    customer_id INT PRIMARY KEY,\n",
        "    customer_name VARCHAR(255),\n",
        "    location VARCHAR(255)\n",
        ");\n",
        "''')\n",
        "\n",
        "cursor.execute('''\n",
        "CREATE TABLE product_dim (\n",
        "    product_id INT PRIMARY KEY,\n",
        "    product_name VARCHAR(255),\n",
        "    category VARCHAR(255)\n",
        ");\n",
        "''')\n",
        "\n",
        "cursor.execute('''\n",
        "CREATE TABLE order_fact (\n",
        "    order_id INT PRIMARY KEY,\n",
        "    product_id INT,\n",
        "    customer_id INT,\n",
        "    quantity INT,\n",
        "    order_amount DECIMAL(10, 2),\n",
        "    order_date TIMESTAMP\n",
        ");\n",
        "''')\n",
        "\n",
        "# Step 3: Insert sample data into the tables\n",
        "cursor.execute(\"INSERT INTO product_dim VALUES (1, 'Smartphone', 'Electronics')\")\n",
        "cursor.execute(\"INSERT INTO product_dim VALUES (2, 'Laptop', 'Electronics')\")\n",
        "cursor.execute(\"INSERT INTO product_dim VALUES (3, 'Tablet', 'Electronics')\")\n",
        "\n",
        "cursor.execute(\"INSERT INTO customer_dim VALUES (2001, 'Bob', 'California')\")\n",
        "cursor.execute(\"INSERT INTO customer_dim VALUES (2002, 'Alice', 'Texas')\")\n",
        "cursor.execute(\"INSERT INTO customer_dim VALUES (2003, 'John', 'New York')\")\n",
        "\n",
        "cursor.execute(\"INSERT INTO order_fact VALUES (1001, 1, 2001, 1, 299.99, '2023-09-27 12:30:00')\")\n",
        "cursor.execute(\"INSERT INTO order_fact VALUES (1002, 2, 2002, 2, 999.99, '2023-09-27 14:45:00')\")\n",
        "cursor.execute(\"INSERT INTO order_fact VALUES (1003, 3, 2003, 1, 499.99, '2023-09-27 15:30:00')\")\n",
        "\n",
        "# Commit the changes\n",
        "conn.commit()\n",
        "\n",
        "# Step 4: Query data to analyze customer behavior and product interactions\n",
        "# 1. Retrieve all customer data\n",
        "cursor.execute(\"SELECT * FROM customer_dim\")\n",
        "customers = cursor.fetchall()\n",
        "print(\"Customer Data:\")\n",
        "for row in customers:\n",
        "    print(row)\n",
        "\n",
        "# 2. Retrieve all product data\n",
        "cursor.execute(\"SELECT * FROM product_dim\")\n",
        "products = cursor.fetchall()\n",
        "print(\"\\nProduct Data:\")\n",
        "for row in products:\n",
        "    print(row)\n",
        "\n",
        "# 3. Retrieve all order data\n",
        "cursor.execute(\"SELECT * FROM order_fact\")\n",
        "orders = cursor.fetchall()\n",
        "print(\"\\nOrder Data:\")\n",
        "for row in orders:\n",
        "    print(row)\n",
        "\n",
        "# 4. Analyze total sales per product\n",
        "cursor.execute('''\n",
        "SELECT product_dim.product_name, SUM(order_fact.order_amount) AS total_sales\n",
        "FROM order_fact\n",
        "JOIN product_dim ON order_fact.product_id = product_dim.product_id\n",
        "GROUP BY product_dim.product_name\n",
        "''')\n",
        "sales_analysis = cursor.fetchall()\n",
        "print(\"\\nTotal Sales per Product:\")\n",
        "for row in sales_analysis:\n",
        "    print(row)\n",
        "\n",
        "# Close the connection\n",
        "conn.close()\n"
      ]
    }
  ]
}
